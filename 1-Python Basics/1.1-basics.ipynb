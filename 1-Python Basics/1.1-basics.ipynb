{
 "cells": [
  {
   "cell_type": "code",
   "execution_count": null,
   "id": "c54daf9f",
   "metadata": {},
   "outputs": [],
   "source": [
    "###Python Example"
   ]
  },
  {
   "cell_type": "code",
   "execution_count": 2,
   "id": "d31fe641",
   "metadata": {},
   "outputs": [
    {
     "data": {
      "text/plain": [
       "2"
      ]
     },
     "execution_count": 2,
     "metadata": {},
     "output_type": "execute_result"
    }
   ],
   "source": [
    "1+1"
   ]
  },
  {
   "cell_type": "code",
   "execution_count": 2,
   "id": "2264d14e",
   "metadata": {},
   "outputs": [
    {
     "name": "stdout",
     "output_type": "stream",
     "text": [
      "Keshav Sharma\n"
     ]
    }
   ],
   "source": [
    "print(\"Keshav Sharma\")"
   ]
  },
  {
   "cell_type": "code",
   "execution_count": 3,
   "id": "7a79ce2c",
   "metadata": {},
   "outputs": [
    {
     "name": "stdout",
     "output_type": "stream",
     "text": [
      "5 10 20\n"
     ]
    }
   ],
   "source": [
    "x=5;y=10;z=20\n",
    "print(x,y,z)"
   ]
  },
  {
   "cell_type": "code",
   "execution_count": 4,
   "id": "3127e895",
   "metadata": {},
   "outputs": [
    {
     "name": "stdout",
     "output_type": "stream",
     "text": [
      "Age is greater than 5\n"
     ]
    }
   ],
   "source": [
    "age=10\n",
    "if age>5:\n",
    "    print(\"Age is greater than 5\")"
   ]
  },
  {
   "cell_type": "code",
   "execution_count": 5,
   "id": "794c7fda",
   "metadata": {},
   "outputs": [
    {
     "data": {
      "text/plain": [
       "int"
      ]
     },
     "execution_count": 5,
     "metadata": {},
     "output_type": "execute_result"
    }
   ],
   "source": [
    "age=20\n",
    "name=\"Keshav Sharma\"\n",
    "type(age)"
   ]
  },
  {
   "cell_type": "code",
   "execution_count": 6,
   "id": "89a2789b",
   "metadata": {},
   "outputs": [
    {
     "data": {
      "text/plain": [
       "str"
      ]
     },
     "execution_count": 6,
     "metadata": {},
     "output_type": "execute_result"
    }
   ],
   "source": [
    "type(name)"
   ]
  },
  {
   "cell_type": "code",
   "execution_count": 7,
   "id": "1eaafb4b",
   "metadata": {},
   "outputs": [
    {
     "name": "stdout",
     "output_type": "stream",
     "text": [
      "Correct Indentation\n",
      "I am outside inner indentation now\n",
      "I am outside all the indentations now\n"
     ]
    }
   ],
   "source": [
    "if True:\n",
    "    print(\"Correct Indentation\")\n",
    "    if False:\n",
    "        print(\"Will not execute\")\n",
    "    print(\"I am outside inner indentation now\")\n",
    "print(\"I am outside all the indentations now\")"
   ]
  },
  {
   "cell_type": "code",
   "execution_count": null,
   "id": "262106cd",
   "metadata": {},
   "outputs": [],
   "source": []
  }
 ],
 "metadata": {
  "kernelspec": {
   "display_name": "venv",
   "language": "python",
   "name": "python3"
  },
  "language_info": {
   "codemirror_mode": {
    "name": "ipython",
    "version": 3
   },
   "file_extension": ".py",
   "mimetype": "text/x-python",
   "name": "python",
   "nbconvert_exporter": "python",
   "pygments_lexer": "ipython3",
   "version": "3.12.11"
  }
 },
 "nbformat": 4,
 "nbformat_minor": 5
}
