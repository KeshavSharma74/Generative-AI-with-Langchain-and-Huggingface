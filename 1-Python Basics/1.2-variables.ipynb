{
 "cells": [
  {
   "cell_type": "code",
   "execution_count": 1,
   "id": "c053336c",
   "metadata": {},
   "outputs": [
    {
     "name": "stdout",
     "output_type": "stream",
     "text": [
      "100\n"
     ]
    }
   ],
   "source": [
    "print(100)"
   ]
  },
  {
   "cell_type": "code",
   "execution_count": 2,
   "id": "e492c90b",
   "metadata": {},
   "outputs": [
    {
     "name": "stdout",
     "output_type": "stream",
     "text": [
      "My name is keshav sharma\n"
     ]
    }
   ],
   "source": [
    "print(\"My name is keshav sharma\")"
   ]
  },
  {
   "cell_type": "code",
   "execution_count": 3,
   "id": "9d01f28d",
   "metadata": {},
   "outputs": [],
   "source": [
    "age=22\n",
    "height=5.7\n",
    "is_student=True\n",
    "name=\"Keshav Sharma\""
   ]
  },
  {
   "cell_type": "code",
   "execution_count": 5,
   "id": "f3bd839c",
   "metadata": {},
   "outputs": [
    {
     "name": "stdout",
     "output_type": "stream",
     "text": [
      "22 , 5.7 , True , Keshav Sharma\n"
     ]
    }
   ],
   "source": [
    "print(age,\",\",height,\",\",is_student,\",\",name)"
   ]
  },
  {
   "cell_type": "code",
   "execution_count": 6,
   "id": "f305f147",
   "metadata": {},
   "outputs": [
    {
     "name": "stdout",
     "output_type": "stream",
     "text": [
      "10 <class 'int'>\n",
      "Keshav <class 'str'>\n",
      "3.5 <class 'float'>\n"
     ]
    }
   ],
   "source": [
    "var=10\n",
    "print(var,type(var))\n",
    "\n",
    "var=\"Keshav\"\n",
    "print(var,type(var))\n",
    "\n",
    "var=3.5\n",
    "print(var,type(var))"
   ]
  },
  {
   "cell_type": "code",
   "execution_count": 2,
   "id": "6f26aaa6",
   "metadata": {},
   "outputs": [
    {
     "name": "stdout",
     "output_type": "stream",
     "text": [
      "Keshav Sharma <class 'str'>\n"
     ]
    }
   ],
   "source": [
    "name = input(\"Enter your name\")\n",
    "print(name,type(name))"
   ]
  },
  {
   "cell_type": "code",
   "execution_count": 3,
   "id": "e69e84d6",
   "metadata": {},
   "outputs": [
    {
     "name": "stdout",
     "output_type": "stream",
     "text": [
      "Sum :  105\n",
      "Multiplication :  500\n",
      "Divide :  20.0\n",
      "Addition :  105\n"
     ]
    }
   ],
   "source": [
    "num1=int(input(\"Enter First Number : \"))\n",
    "num2=int(input(\"Enter Second Number : \"))\n",
    "\n",
    "print(\"Sum : \",num1+num2)\n",
    "print(\"Multiplication : \",num1*num2)\n",
    "print(\"Divide : \",num1/num2)\n",
    "print(\"Addition : \",num1+num2)"
   ]
  },
  {
   "cell_type": "code",
   "execution_count": null,
   "id": "d17ee695",
   "metadata": {},
   "outputs": [],
   "source": []
  }
 ],
 "metadata": {
  "kernelspec": {
   "display_name": "venv",
   "language": "python",
   "name": "python3"
  },
  "language_info": {
   "codemirror_mode": {
    "name": "ipython",
    "version": 3
   },
   "file_extension": ".py",
   "mimetype": "text/x-python",
   "name": "python",
   "nbconvert_exporter": "python",
   "pygments_lexer": "ipython3",
   "version": "3.12.11"
  }
 },
 "nbformat": 4,
 "nbformat_minor": 5
}
