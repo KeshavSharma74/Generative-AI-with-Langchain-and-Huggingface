{
 "cells": [
  {
   "cell_type": "code",
   "execution_count": 1,
   "id": "be742788",
   "metadata": {},
   "outputs": [
    {
     "name": "stdout",
     "output_type": "stream",
     "text": [
      "You cannot drive\n"
     ]
    }
   ],
   "source": [
    "age=17\n",
    "if age>18:\n",
    "    print(\"You can drive\")\n",
    "else :\n",
    "    print(\"You cannot drive\")"
   ]
  },
  {
   "cell_type": "code",
   "execution_count": 2,
   "id": "d049e209",
   "metadata": {},
   "outputs": [
    {
     "name": "stdout",
     "output_type": "stream",
     "text": [
      "You can ride\n"
     ]
    }
   ],
   "source": [
    "if(age>18):\n",
    "    print(\"You can drive\")\n",
    "elif age>15:\n",
    "    print(\"You can ride\")\n",
    "else :\n",
    "    print(\"You cannot do anything\")"
   ]
  },
  {
   "cell_type": "code",
   "execution_count": 5,
   "id": "c1ec31e5",
   "metadata": {},
   "outputs": [
    {
     "name": "stdout",
     "output_type": "stream",
     "text": [
      "Number is Either 0 or negative\n"
     ]
    }
   ],
   "source": [
    "num=int(input(\"Enter Number : \"))\n",
    "\n",
    "if num>0:\n",
    "    print(\"Number is Positive\")\n",
    "    if num%2==0:\n",
    "        print(\"Number is Even\")\n",
    "    else :\n",
    "        print(\"Number is Odd\")\n",
    "else :\n",
    "    print(\"Number is Either 0 or negative\")"
   ]
  },
  {
   "cell_type": "code",
   "execution_count": 6,
   "id": "0edb16d0",
   "metadata": {},
   "outputs": [
    {
     "name": "stdout",
     "output_type": "stream",
     "text": [
      "2022 is not a leap year\n"
     ]
    }
   ],
   "source": [
    "year=int(input(\"Enter year : \"))\n",
    "if year%4==0:\n",
    "    if year%100==0:\n",
    "        if year%400==0:\n",
    "            print(year,\"is not a leap year\")\n",
    "        else:\n",
    "            print(year,\"is a leap year\")\n",
    "    else:\n",
    "        print(year,\"is a leap year\")\n",
    "else:\n",
    "    print(year,\"is not a leap year\")"
   ]
  },
  {
   "cell_type": "code",
   "execution_count": 7,
   "id": "3de9be93",
   "metadata": {},
   "outputs": [
    {
     "name": "stdout",
     "output_type": "stream",
     "text": [
      "15\n",
      "Operator applied successfully\n"
     ]
    }
   ],
   "source": [
    "num1=int(input(\"Enter first Number : \"))\n",
    "num2=int(input(\"Enter second Number : \"))\n",
    "\n",
    "opr=input(\"Enter operator : \")\n",
    "if opr==\"+\":\n",
    "    print(num1+num2)\n",
    "elif opr==\"-\":\n",
    "    print(num1-num2)\n",
    "elif opr==\"/\":\n",
    "    print(num1/num2)\n",
    "elif opr==\"*\":\n",
    "    print(num1*num2)\n",
    "\n",
    "print(\"Operator applied successfully\")"
   ]
  },
  {
   "cell_type": "code",
   "execution_count": 8,
   "id": "71cc68c8",
   "metadata": {},
   "outputs": [
    {
     "data": {
      "text/plain": [
       "range(0, 5)"
      ]
     },
     "execution_count": 8,
     "metadata": {},
     "output_type": "execute_result"
    }
   ],
   "source": [
    "range(5)"
   ]
  },
  {
   "cell_type": "code",
   "execution_count": 9,
   "id": "a37f1f1a",
   "metadata": {},
   "outputs": [
    {
     "name": "stdout",
     "output_type": "stream",
     "text": [
      "range(0, 5)\n"
     ]
    }
   ],
   "source": [
    "print(range(5))"
   ]
  },
  {
   "cell_type": "code",
   "execution_count": 10,
   "id": "d9f06a5e",
   "metadata": {},
   "outputs": [
    {
     "name": "stdout",
     "output_type": "stream",
     "text": [
      "0\n",
      "1\n",
      "2\n",
      "3\n",
      "4\n"
     ]
    }
   ],
   "source": [
    "for i in range(5):\n",
    "    print(i)"
   ]
  },
  {
   "cell_type": "code",
   "execution_count": null,
   "id": "58b974e7",
   "metadata": {},
   "outputs": [],
   "source": []
  }
 ],
 "metadata": {
  "kernelspec": {
   "display_name": "venv",
   "language": "python",
   "name": "python3"
  },
  "language_info": {
   "codemirror_mode": {
    "name": "ipython",
    "version": 3
   },
   "file_extension": ".py",
   "mimetype": "text/x-python",
   "name": "python",
   "nbconvert_exporter": "python",
   "pygments_lexer": "ipython3",
   "version": "3.12.11"
  }
 },
 "nbformat": 4,
 "nbformat_minor": 5
}
