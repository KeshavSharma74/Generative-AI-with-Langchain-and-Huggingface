{
 "cells": [
  {
   "cell_type": "code",
   "execution_count": 3,
   "id": "2c011641",
   "metadata": {},
   "outputs": [
    {
     "name": "stdout",
     "output_type": "stream",
     "text": [
      "25.0\n"
     ]
    }
   ],
   "source": [
    "# convert celcius to fehrahnite and fehrahnite to celcius\n",
    "def convert_temperature(temp,unit):\n",
    "    if unit==\"F\":\n",
    "        return temp* 9/5 + 32\n",
    "    elif unit==\"C\":\n",
    "        return (temp-32)*5/9\n",
    "    else:\n",
    "        None\n",
    "print(convert_temperature(77,\"C\")) "
   ]
  },
  {
   "cell_type": "code",
   "execution_count": 8,
   "id": "a7c2d13d",
   "metadata": {},
   "outputs": [
    {
     "name": "stdout",
     "output_type": "stream",
     "text": [
      "False\n",
      "True\n"
     ]
    }
   ],
   "source": [
    "# check if provided password is strong or not\n",
    "def is_strong_password(password):\n",
    "    if(len(password)<8):\n",
    "        return False\n",
    "    if not any(char.isupper() for char in password):\n",
    "        return False\n",
    "    if not any(char.islower() for char in password):\n",
    "        return False\n",
    "    if not any(char.isdigit() for char in password):\n",
    "        return False\n",
    "    if not any(char in \"!@#$%^&*()_+\" for char in password):\n",
    "        return False\n",
    "    return True\n",
    "print(is_strong_password(\"keshav\"))\n",
    "print(is_strong_password(\"keshavSharma@9472\"))"
   ]
  },
  {
   "cell_type": "code",
   "execution_count": 13,
   "id": "53e8a4f4",
   "metadata": {},
   "outputs": [
    {
     "name": "stdout",
     "output_type": "stream",
     "text": [
      "total cost is : \n"
     ]
    },
    {
     "data": {
      "text/plain": [
       "5.8999999999999995"
      ]
     },
     "execution_count": 13,
     "metadata": {},
     "output_type": "execute_result"
    }
   ],
   "source": [
    "def calculate_cost(cart):\n",
    "    total=0\n",
    "    for element in cart:\n",
    "        price=element[\"price\"]\n",
    "        quantity=element[\"quantity\"]\n",
    "        total+=price*quantity\n",
    "    return total\n",
    "\n",
    "cart=[\n",
    "    {\"name\":\"Apple\",\"price\":0.5,\"quantity\":4},\n",
    "    {\"name\":\"Banana\",\"price\":0.3,\"quantity\":6},\n",
    "    {\"name\":\"Orange\",\"price\":0.7,\"quantity\":3},\n",
    "]\n",
    "print(\"total cost is : \")\n",
    "calculate_cost(cart)"
   ]
  },
  {
   "cell_type": "code",
   "execution_count": 16,
   "id": "ea3cea64",
   "metadata": {},
   "outputs": [
    {
     "name": "stdout",
     "output_type": "stream",
     "text": [
      "True\n",
      "False\n"
     ]
    }
   ],
   "source": [
    "def is_palindrome(str):\n",
    "    str=str.lower().replace(\" \",\"\")\n",
    "    return str==str[::-1]\n",
    "print(is_palindrome(\"A man a plan a canal Panama\"))\n",
    "print(is_palindrome(\"my name is\"))"
   ]
  },
  {
   "cell_type": "code",
   "execution_count": 17,
   "id": "a15444b2",
   "metadata": {},
   "outputs": [
    {
     "name": "stdout",
     "output_type": "stream",
     "text": [
      "120\n"
     ]
    }
   ],
   "source": [
    "def factorial(num):\n",
    "    if(num==0):\n",
    "        return 1\n",
    "    else:\n",
    "        return num*factorial(num-1)\n",
    "print(factorial(5))"
   ]
  },
  {
   "cell_type": "code",
   "execution_count": null,
   "id": "38df69a6",
   "metadata": {},
   "outputs": [
    {
     "name": "stdout",
     "output_type": "stream",
     "text": [
      "{'Hello': 3, 'my': 3, 'name': 3, 'is': 3, 'Keshav': 3, 'Sharma': 3, 'and': 3, 'i': 3, 'am': 3, 'a': 3, 'student': 3, 'of': 3, 'Chandigarh': 3, 'university': 3}\n"
     ]
    }
   ],
   "source": [
    "def countFreq(file_path):\n",
    "    freq={}\n",
    "    with open(file_path,\"r\") as file:\n",
    "        for line in file:\n",
    "            words=line.split()\n",
    "            for word in words:\n",
    "                word=word.strip(\",./';][!@#$%^&*(*)]\")\n",
    "                isPresent=freq.get(word,False)\n",
    "                if(isPresent):\n",
    "                    freq[word]=freq[word]+1\n",
    "                else:\n",
    "                    freq[word]=1\n",
    "    return freq\n",
    "            \n",
    "\n",
    "freq=countFreq(\"sample.txt\")\n",
    "print(freq)\n"
   ]
  },
  {
   "cell_type": "code",
   "execution_count": null,
   "id": "70100e2c",
   "metadata": {},
   "outputs": [],
   "source": []
  }
 ],
 "metadata": {
  "kernelspec": {
   "display_name": "venv",
   "language": "python",
   "name": "python3"
  },
  "language_info": {
   "codemirror_mode": {
    "name": "ipython",
    "version": 3
   },
   "file_extension": ".py",
   "mimetype": "text/x-python",
   "name": "python",
   "nbconvert_exporter": "python",
   "pygments_lexer": "ipython3",
   "version": "3.12.11"
  }
 },
 "nbformat": 4,
 "nbformat_minor": 5
}
