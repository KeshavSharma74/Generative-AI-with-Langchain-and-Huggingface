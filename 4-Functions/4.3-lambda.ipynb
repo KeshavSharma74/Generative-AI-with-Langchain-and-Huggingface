{
 "cells": [
  {
   "cell_type": "code",
   "execution_count": 1,
   "id": "57583071",
   "metadata": {},
   "outputs": [
    {
     "name": "stdout",
     "output_type": "stream",
     "text": [
      "9\n"
     ]
    }
   ],
   "source": [
    "def add(a,b):\n",
    "    return a+b\n",
    "print(add(2,7))"
   ]
  },
  {
   "cell_type": "code",
   "execution_count": 2,
   "id": "f494be3e",
   "metadata": {},
   "outputs": [
    {
     "name": "stdout",
     "output_type": "stream",
     "text": [
      "12\n"
     ]
    }
   ],
   "source": [
    "addition=lambda a,b:a+b\n",
    "print(addition(4,8))"
   ]
  },
  {
   "cell_type": "code",
   "execution_count": 4,
   "id": "58191463",
   "metadata": {},
   "outputs": [
    {
     "name": "stdout",
     "output_type": "stream",
     "text": [
      "True\n",
      "False\n"
     ]
    }
   ],
   "source": [
    "even=lambda n:n%2==0\n",
    "print(even(6))\n",
    "print(even(7))"
   ]
  },
  {
   "cell_type": "code",
   "execution_count": 5,
   "id": "7af09b1d",
   "metadata": {},
   "outputs": [
    {
     "name": "stdout",
     "output_type": "stream",
     "text": [
      "18\n"
     ]
    }
   ],
   "source": [
    "addy=lambda a,b,c:a+b+c\n",
    "print(addy(3,6,9))"
   ]
  },
  {
   "cell_type": "code",
   "execution_count": null,
   "id": "1a5ee204",
   "metadata": {},
   "outputs": [],
   "source": []
  }
 ],
 "metadata": {
  "kernelspec": {
   "display_name": "venv",
   "language": "python",
   "name": "python3"
  },
  "language_info": {
   "codemirror_mode": {
    "name": "ipython",
    "version": 3
   },
   "file_extension": ".py",
   "mimetype": "text/x-python",
   "name": "python",
   "nbconvert_exporter": "python",
   "pygments_lexer": "ipython3",
   "version": "3.12.11"
  }
 },
 "nbformat": 4,
 "nbformat_minor": 5
}
