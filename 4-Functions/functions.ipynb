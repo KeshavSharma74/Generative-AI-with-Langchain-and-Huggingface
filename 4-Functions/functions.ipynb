{
 "cells": [
  {
   "cell_type": "code",
   "execution_count": null,
   "id": "2e8e5a8f",
   "metadata": {},
   "outputs": [],
   "source": [
    "def even_or_odd(num):\n",
    "    \"\"\"This function finds if number is even or odd\"\"\"\n",
    "    if(num%2==0):\n",
    "        print(num,\"is Even\")\n",
    "    else:\n",
    "        print(num,\"is Odd\")\n",
    "even_or_odd(7)"
   ]
  },
  {
   "cell_type": "code",
   "execution_count": null,
   "id": "9d256032",
   "metadata": {},
   "outputs": [],
   "source": [
    "def add(a,b):\n",
    "    return a+b\n",
    "result=add(5,3)\n",
    "print(result)"
   ]
  },
  {
   "cell_type": "code",
   "execution_count": null,
   "id": "f8e84550",
   "metadata": {},
   "outputs": [],
   "source": [
    "def greet(name):\n",
    "    print(f\"Hello {name}!!\")\n",
    "greet(input(\"Enter Your Name : \"))"
   ]
  },
  {
   "cell_type": "code",
   "execution_count": null,
   "id": "94806553",
   "metadata": {},
   "outputs": [],
   "source": [
    "def greet(name=\"Guest\"):\n",
    "    print(f\"Hello {name}\")\n",
    "greet(\"Keshav Sharma\")"
   ]
  },
  {
   "cell_type": "code",
   "execution_count": 1,
   "id": "8625c874",
   "metadata": {},
   "outputs": [
    {
     "name": "stdout",
     "output_type": "stream",
     "text": [
      "1\n",
      "2\n",
      "3\n",
      "4\n",
      "5\n",
      "6\n",
      "Keshav Sharma\n",
      "8\n",
      "9\n",
      "10\n"
     ]
    }
   ],
   "source": [
    "def yes(*args):\n",
    "    for element in args:\n",
    "        print(element)\n",
    "\n",
    "yes(1,2,3,4,5,6,\"Keshav Sharma\",8,9,10)"
   ]
  },
  {
   "cell_type": "code",
   "execution_count": 5,
   "id": "c478e321",
   "metadata": {},
   "outputs": [
    {
     "name": "stdout",
     "output_type": "stream",
     "text": [
      "name->Keshav Sharma\n",
      "age->32\n",
      "country->India\n"
     ]
    }
   ],
   "source": [
    "def printDetails(**kargs):\n",
    "    for key,value in kargs.items():\n",
    "        print(f\"{key}->{value}\")\n",
    "printDetails(name=\"Keshav Sharma\",age=32,country=\"India\")"
   ]
  },
  {
   "cell_type": "code",
   "execution_count": 9,
   "id": "90f47168",
   "metadata": {},
   "outputs": [
    {
     "name": "stdout",
     "output_type": "stream",
     "text": [
      "Positional Arguments : \n",
      "\t 1\n",
      "\t 2\n",
      "\t 3\n",
      "\t 4\n",
      "\t Keshav Sharma\n",
      "Keyword Arguments : \n",
      "\t name->Suryansh Sharma\n",
      "\t age->22\n",
      "\t city->Chandigarh\n"
     ]
    }
   ],
   "source": [
    "def print_details(*args,**kargs):\n",
    "    print(\"Positional Arguments : \")\n",
    "    for element in args:\n",
    "        print(f\"\\t {element}\")\n",
    "    print(\"Keyword Arguments : \")\n",
    "    for key,value in kargs.items():\n",
    "        print(f\"\\t {key}->{value}\")\n",
    "print_details(1,2,3,4,\"Keshav Sharma\",name=\"Suryansh Sharma\",age=22,city=\"Chandigarh\")"
   ]
  },
  {
   "cell_type": "code",
   "execution_count": null,
   "id": "9b0247aa",
   "metadata": {},
   "outputs": [],
   "source": []
  }
 ],
 "metadata": {
  "kernelspec": {
   "display_name": "venv",
   "language": "python",
   "name": "python3"
  },
  "language_info": {
   "codemirror_mode": {
    "name": "ipython",
    "version": 3
   },
   "file_extension": ".py",
   "mimetype": "text/x-python",
   "name": "python",
   "nbconvert_exporter": "python",
   "pygments_lexer": "ipython3",
   "version": "3.12.11"
  }
 },
 "nbformat": 4,
 "nbformat_minor": 5
}
