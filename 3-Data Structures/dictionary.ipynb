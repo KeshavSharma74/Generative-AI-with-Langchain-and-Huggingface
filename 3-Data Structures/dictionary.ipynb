{
 "cells": [
  {
   "cell_type": "code",
   "execution_count": 1,
   "id": "d560251c",
   "metadata": {},
   "outputs": [
    {
     "name": "stdout",
     "output_type": "stream",
     "text": [
      "{}\n",
      "<class 'dict'>\n"
     ]
    }
   ],
   "source": [
    "dictionary=dict()\n",
    "print(dictionary)\n",
    "print(type(dictionary))"
   ]
  },
  {
   "cell_type": "code",
   "execution_count": 2,
   "id": "c163a6a7",
   "metadata": {},
   "outputs": [
    {
     "name": "stdout",
     "output_type": "stream",
     "text": [
      "{'name': 'Keshav Sharma', 'age': 22, 'marks': 100}\n"
     ]
    }
   ],
   "source": [
    "student={\"name\":\"Keshav Sharma\",\"age\":22,\"marks\":100}\n",
    "print(student)"
   ]
  },
  {
   "cell_type": "code",
   "execution_count": 3,
   "id": "7b8880b1",
   "metadata": {},
   "outputs": [
    {
     "name": "stdout",
     "output_type": "stream",
     "text": [
      "{'name': 'suryansh', 'age': 22, 'marks': 100}\n"
     ]
    }
   ],
   "source": [
    "student={\"name\":\"Keshav Sharma\",\"age\":22,\"marks\":100,\"name\":\"suryansh\"}\n",
    "print(student)"
   ]
  },
  {
   "cell_type": "code",
   "execution_count": 6,
   "id": "f14b7abb",
   "metadata": {},
   "outputs": [
    {
     "name": "stdout",
     "output_type": "stream",
     "text": [
      "name -> suryansh\n",
      "age -> 22\n",
      "marks -> 100\n"
     ]
    }
   ],
   "source": [
    "for key in student :\n",
    "    print(key,\"->\",student[key])"
   ]
  },
  {
   "cell_type": "code",
   "execution_count": 7,
   "id": "eda5e877",
   "metadata": {},
   "outputs": [
    {
     "data": {
      "text/plain": [
       "22"
      ]
     },
     "execution_count": 7,
     "metadata": {},
     "output_type": "execute_result"
    }
   ],
   "source": [
    "student[\"age\"]"
   ]
  },
  {
   "cell_type": "code",
   "execution_count": 8,
   "id": "080f9646",
   "metadata": {},
   "outputs": [
    {
     "data": {
      "text/plain": [
       "{'name': 'suryansh', 'age': 22, 'marks': 100}"
      ]
     },
     "execution_count": 8,
     "metadata": {},
     "output_type": "execute_result"
    }
   ],
   "source": [
    "student"
   ]
  },
  {
   "cell_type": "code",
   "execution_count": 10,
   "id": "6056e729",
   "metadata": {},
   "outputs": [
    {
     "name": "stdout",
     "output_type": "stream",
     "text": [
      "{'name': 'Keshav Sharma', 'age': 22, 'marks': 100, 'address': 'Mohali'}\n"
     ]
    },
    {
     "data": {
      "text/plain": [
       "{'name': 'Keshav Sharma', 'age': 22, 'marks': 100, 'address': 'Mohali'}"
      ]
     },
     "execution_count": 10,
     "metadata": {},
     "output_type": "execute_result"
    }
   ],
   "source": [
    "student[\"name\"]=\"Keshav Sharma\"\n",
    "print(student)\n",
    "student[\"address\"]=\"Mohali\"\n",
    "student"
   ]
  },
  {
   "cell_type": "code",
   "execution_count": 11,
   "id": "f178291a",
   "metadata": {},
   "outputs": [
    {
     "name": "stdout",
     "output_type": "stream",
     "text": [
      "{'name': 'Keshav Sharma', 'age': 22, 'marks': 100, 'address': 'India'}\n",
      "{'name': 'Keshav Sharma', 'age': 22, 'marks': 100, 'address': 'India', 'Gender': 'Male'}\n"
     ]
    }
   ],
   "source": [
    "student[\"address\"]=\"India\"\n",
    "print(student)\n",
    "student[\"Gender\"]=\"Male\"\n",
    "print(student)"
   ]
  },
  {
   "cell_type": "code",
   "execution_count": 12,
   "id": "89d5de08",
   "metadata": {},
   "outputs": [],
   "source": [
    "del student[\"marks\"]"
   ]
  },
  {
   "cell_type": "code",
   "execution_count": 13,
   "id": "75a0257e",
   "metadata": {},
   "outputs": [
    {
     "name": "stdout",
     "output_type": "stream",
     "text": [
      "{'name': 'Keshav Sharma', 'age': 22, 'address': 'India', 'Gender': 'Male'}\n"
     ]
    }
   ],
   "source": [
    "print(student)"
   ]
  },
  {
   "cell_type": "code",
   "execution_count": 18,
   "id": "b6b17366",
   "metadata": {},
   "outputs": [
    {
     "name": "stdout",
     "output_type": "stream",
     "text": [
      "dict_keys(['name', 'age', 'address', 'Gender'])\n",
      "dict_values(['Keshav Sharma', 22, 'India', 'Male'])\n",
      "dict_items([('name', 'Keshav Sharma'), ('age', 22), ('address', 'India'), ('Gender', 'Male')])\n"
     ]
    }
   ],
   "source": [
    "keys=student.keys()\n",
    "print(keys)\n",
    "values=student.values()\n",
    "print(values)\n",
    "print(student.items())"
   ]
  },
  {
   "cell_type": "code",
   "execution_count": 19,
   "id": "ebabf572",
   "metadata": {},
   "outputs": [
    {
     "name": "stdout",
     "output_type": "stream",
     "text": [
      "{'name': 'Keshav Sharma', 'age': 22, 'address': 'India', 'Gender': 'Male'}\n",
      "{'name': 'Keshav Sharma', 'age': 22, 'address': 'India', 'Gender': 'Male'}\n"
     ]
    }
   ],
   "source": [
    "student_deep_copy=student\n",
    "print(student)\n",
    "print(student_deep_copy)\n"
   ]
  },
  {
   "cell_type": "code",
   "execution_count": 20,
   "id": "c7bb0914",
   "metadata": {},
   "outputs": [
    {
     "name": "stdout",
     "output_type": "stream",
     "text": [
      "{'name': 'Keshav Sharma', 'age': 22, 'address': 'India', 'Gender': 'Female'}\n",
      "{'name': 'Keshav Sharma', 'age': 22, 'address': 'India', 'Gender': 'Female'}\n"
     ]
    }
   ],
   "source": [
    "student[\"Gender\"]=\"Female\"\n",
    "print(student)\n",
    "print(student_deep_copy)"
   ]
  },
  {
   "cell_type": "code",
   "execution_count": 21,
   "id": "25d8d526",
   "metadata": {},
   "outputs": [
    {
     "name": "stdout",
     "output_type": "stream",
     "text": [
      "{'name': 'Keshav Sharma', 'age': 22, 'address': 'India', 'Gender': 'Female'}\n",
      "{'name': 'Keshav Sharma', 'age': 22, 'address': 'India', 'Gender': 'Female'}\n"
     ]
    }
   ],
   "source": [
    "student_shallow_copy=student\n",
    "print(student)\n",
    "print(student_shallow_copy)"
   ]
  },
  {
   "cell_type": "code",
   "execution_count": 22,
   "id": "605e843c",
   "metadata": {},
   "outputs": [
    {
     "name": "stdout",
     "output_type": "stream",
     "text": [
      "{'name': 'Keshav Sharma', 'age': 22, 'address': 'India', 'Gender': 'Male'}\n",
      "{'name': 'Keshav Sharma', 'age': 22, 'address': 'India', 'Gender': 'Male'}\n"
     ]
    }
   ],
   "source": [
    "student[\"Gender\"]=\"Male\"\n",
    "print(student)\n",
    "print(student_shallow_copy)"
   ]
  },
  {
   "cell_type": "code",
   "execution_count": 23,
   "id": "93336a2d",
   "metadata": {},
   "outputs": [
    {
     "name": "stdout",
     "output_type": "stream",
     "text": [
      "{'name': 'Keshav Sharma', 'age': 22, 'address': 'India', 'Gender': 'Male'}\n",
      "{'name': 'Keshav Sharma', 'age': 22, 'address': 'India', 'Gender': 'Male'}\n"
     ]
    }
   ],
   "source": [
    "student_actual_shallow_copy=student.copy()\n",
    "print(student)\n",
    "print(student_actual_shallow_copy)"
   ]
  },
  {
   "cell_type": "code",
   "execution_count": 24,
   "id": "99855678",
   "metadata": {},
   "outputs": [
    {
     "name": "stdout",
     "output_type": "stream",
     "text": [
      "{'name': 'Keshav Sharma', 'age': 22, 'address': 'India', 'Gender': 'Female'}\n",
      "{'name': 'Keshav Sharma', 'age': 22, 'address': 'India', 'Gender': 'Male'}\n"
     ]
    }
   ],
   "source": [
    "student[\"Gender\"]=\"Female\"\n",
    "print(student)\n",
    "print(student_actual_shallow_copy)"
   ]
  },
  {
   "cell_type": "code",
   "execution_count": 27,
   "id": "01357bcc",
   "metadata": {},
   "outputs": [
    {
     "name": "stdout",
     "output_type": "stream",
     "text": [
      "name->Keshav Sharma\n",
      "age->22\n",
      "address->India\n",
      "Gender->Female\n"
     ]
    }
   ],
   "source": [
    "for key,value in student.items():\n",
    "    print(f\"{key}->{value}\")"
   ]
  },
  {
   "cell_type": "code",
   "execution_count": 28,
   "id": "4c8a0c74",
   "metadata": {},
   "outputs": [
    {
     "data": {
      "text/plain": [
       "dict_items([('name', 'Keshav Sharma'), ('age', 22), ('address', 'India'), ('Gender', 'Female')])"
      ]
     },
     "execution_count": 28,
     "metadata": {},
     "output_type": "execute_result"
    }
   ],
   "source": [
    "student.items()"
   ]
  },
  {
   "cell_type": "code",
   "execution_count": 29,
   "id": "caa84600",
   "metadata": {},
   "outputs": [
    {
     "name": "stdout",
     "output_type": "stream",
     "text": [
      "{'name': 'Keshav Sharma', 'age': 22, 'address': 'India', 'Gender': 'Female'}\n",
      "{'name': 'Keshav Sharma', 'age': 22, 'address': 'India', 'Gender': 'Male'}\n"
     ]
    }
   ],
   "source": [
    "print(student)\n",
    "print(student_actual_shallow_copy)"
   ]
  },
  {
   "cell_type": "code",
   "execution_count": 30,
   "id": "e2097cca",
   "metadata": {},
   "outputs": [
    {
     "name": "stdout",
     "output_type": "stream",
     "text": [
      "{'student1': {'name': 'Keshav Sharma', 'age': 22, 'address': 'India', 'Gender': 'Female'}, 'student2': {'name': 'Keshav Sharma', 'age': 22, 'address': 'India', 'Gender': 'Male'}}\n"
     ]
    }
   ],
   "source": [
    "mainDict={\n",
    "    \"student1\":student,\n",
    "    \"student2\":student_actual_shallow_copy,\n",
    "}\n",
    "print(mainDict)"
   ]
  },
  {
   "cell_type": "code",
   "execution_count": 35,
   "id": "7bb4d3e4",
   "metadata": {},
   "outputs": [
    {
     "name": "stdout",
     "output_type": "stream",
     "text": [
      "student1->{'name': 'Keshav Sharma', 'age': 22, 'address': 'India', 'Gender': 'Female'}\n",
      "name->Keshav Sharma\n",
      "age->22\n",
      "address->India\n",
      "Gender->Female\n",
      "student2->{'name': 'Keshav Sharma', 'age': 22, 'address': 'India', 'Gender': 'Male'}\n",
      "name->Keshav Sharma\n",
      "age->22\n",
      "address->India\n",
      "Gender->Male\n"
     ]
    }
   ],
   "source": [
    "for (key,value) in mainDict.items():\n",
    "    print(f\"{key}->{value}\")\n",
    "    for (innerKey,innerValue) in value.items():\n",
    "        print(f\"{innerKey}->{innerValue}\")"
   ]
  },
  {
   "cell_type": "code",
   "execution_count": 37,
   "id": "4ec633b4",
   "metadata": {},
   "outputs": [
    {
     "name": "stdout",
     "output_type": "stream",
     "text": [
      "{0: 0, 2: 4, 4: 16, 6: 36, 8: 64}\n"
     ]
    }
   ],
   "source": [
    "squares={x:x**2 for x in range(10) if x%2==0}\n",
    "print(squares)"
   ]
  },
  {
   "cell_type": "code",
   "execution_count": 38,
   "id": "817af5b5",
   "metadata": {},
   "outputs": [
    {
     "name": "stdout",
     "output_type": "stream",
     "text": [
      "{1: 4, 2: 3, 3: 4, 4: 3, 5: 6}\n"
     ]
    }
   ],
   "source": [
    "arr=[1,2,3,1,1,1,2,2,3,3,3,4,4,4,5,5,5,5,5,5,]\n",
    "freq={}\n",
    "for element in arr:\n",
    "    isPresent=freq.get(element,False)\n",
    "    if(isPresent):\n",
    "        freq[element]=freq[element]+1\n",
    "    else :\n",
    "        freq[element]=1\n",
    "print(freq)"
   ]
  },
  {
   "cell_type": "code",
   "execution_count": null,
   "id": "5c0a23a6",
   "metadata": {},
   "outputs": [],
   "source": []
  }
 ],
 "metadata": {
  "kernelspec": {
   "display_name": "venv",
   "language": "python",
   "name": "python3"
  },
  "language_info": {
   "codemirror_mode": {
    "name": "ipython",
    "version": 3
   },
   "file_extension": ".py",
   "mimetype": "text/x-python",
   "name": "python",
   "nbconvert_exporter": "python",
   "pygments_lexer": "ipython3",
   "version": "3.12.11"
  }
 },
 "nbformat": 4,
 "nbformat_minor": 5
}
