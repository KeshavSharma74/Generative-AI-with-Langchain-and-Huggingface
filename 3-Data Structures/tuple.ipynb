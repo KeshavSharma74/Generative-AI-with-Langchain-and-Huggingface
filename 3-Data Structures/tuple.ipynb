{
 "cells": [
  {
   "cell_type": "code",
   "execution_count": 1,
   "id": "06fa8c1e",
   "metadata": {},
   "outputs": [
    {
     "name": "stdout",
     "output_type": "stream",
     "text": [
      "Keshav Sharma\n"
     ]
    }
   ],
   "source": [
    "print(\"Keshav Sharma\")"
   ]
  },
  {
   "cell_type": "code",
   "execution_count": 2,
   "id": "bcd454bc",
   "metadata": {},
   "outputs": [
    {
     "name": "stdout",
     "output_type": "stream",
     "text": [
      "()\n",
      "<class 'tuple'>\n"
     ]
    }
   ],
   "source": [
    "empty_tuple=()\n",
    "print(empty_tuple)\n",
    "print(type(empty_tuple))"
   ]
  },
  {
   "cell_type": "code",
   "execution_count": 3,
   "id": "bf76b018",
   "metadata": {},
   "outputs": [
    {
     "name": "stdout",
     "output_type": "stream",
     "text": [
      "[1, 2, 3, 4, 5]\n",
      "<class 'list'>\n",
      "(1, 2, 3, 4, 5)\n",
      "<class 'tuple'>\n"
     ]
    }
   ],
   "source": [
    "lst=[1,2,3,4,5]\n",
    "print(lst)\n",
    "print(type(lst))\n",
    "tpl=tuple(lst)\n",
    "print(tpl)\n",
    "print(type(tpl))"
   ]
  },
  {
   "cell_type": "code",
   "execution_count": 1,
   "id": "3dac53a6",
   "metadata": {},
   "outputs": [
    {
     "name": "stdout",
     "output_type": "stream",
     "text": [
      "[1, 2, 3, 4, 'keshav', 6]\n"
     ]
    }
   ],
   "source": [
    "lst=[1,2,3,4,5,6]\n",
    "lst[4]=\"keshav\"\n",
    "print(lst)"
   ]
  },
  {
   "cell_type": "code",
   "execution_count": 4,
   "id": "2212ca2b",
   "metadata": {},
   "outputs": [
    {
     "name": "stdout",
     "output_type": "stream",
     "text": [
      "5\n"
     ]
    }
   ],
   "source": [
    "tpl=(1,2,3,4,5,6,3,3,3,3)\n",
    "print(tpl.count(3))"
   ]
  },
  {
   "cell_type": "code",
   "execution_count": 5,
   "id": "98d89b5f",
   "metadata": {},
   "outputs": [
    {
     "name": "stdout",
     "output_type": "stream",
     "text": [
      "2\n"
     ]
    }
   ],
   "source": [
    "print(tpl.index(3))\n"
   ]
  },
  {
   "cell_type": "code",
   "execution_count": 6,
   "id": "9eba0d28",
   "metadata": {},
   "outputs": [
    {
     "name": "stdout",
     "output_type": "stream",
     "text": [
      "(1, 'keshav', 2.3)\n"
     ]
    }
   ],
   "source": [
    "packed_tuple=(1,\"keshav\",2.3)\n",
    "print(packed_tuple)"
   ]
  },
  {
   "cell_type": "code",
   "execution_count": 7,
   "id": "26e5921b",
   "metadata": {},
   "outputs": [
    {
     "name": "stdout",
     "output_type": "stream",
     "text": [
      "1 keshav 2.3\n"
     ]
    }
   ],
   "source": [
    "a,b,c=packed_tuple\n",
    "print(a,b,c)"
   ]
  },
  {
   "cell_type": "code",
   "execution_count": 11,
   "id": "b4fa1466",
   "metadata": {},
   "outputs": [
    {
     "name": "stdout",
     "output_type": "stream",
     "text": [
      "1\n",
      "[2, 3, 4, 5]\n",
      "6\n"
     ]
    }
   ],
   "source": [
    "tpl=(1,2,3,4,5,6)\n",
    "first,*middle,last=tpl\n",
    "print(first)\n",
    "print(middle)\n",
    "print(last)"
   ]
  },
  {
   "cell_type": "code",
   "execution_count": 12,
   "id": "8bb82d93",
   "metadata": {},
   "outputs": [
    {
     "name": "stdout",
     "output_type": "stream",
     "text": [
      "[5, 'keshav', 7, 8]\n"
     ]
    }
   ],
   "source": [
    "lst=[[1,2,3,4],[5,\"keshav\",7,8],[9,10.5,True,12]]\n",
    "print(lst[1])"
   ]
  },
  {
   "cell_type": "code",
   "execution_count": 13,
   "id": "85786ee6",
   "metadata": {},
   "outputs": [
    {
     "data": {
      "text/plain": [
       "[5, 'keshav']"
      ]
     },
     "execution_count": 13,
     "metadata": {},
     "output_type": "execute_result"
    }
   ],
   "source": [
    "lst[1][:2]"
   ]
  },
  {
   "cell_type": "code",
   "execution_count": 14,
   "id": "482c2422",
   "metadata": {},
   "outputs": [
    {
     "data": {
      "text/plain": [
       "[5, 'keshav', 7, 8]"
      ]
     },
     "execution_count": 14,
     "metadata": {},
     "output_type": "execute_result"
    }
   ],
   "source": [
    "lst[1][:]"
   ]
  },
  {
   "cell_type": "code",
   "execution_count": 16,
   "id": "0cc845f6",
   "metadata": {},
   "outputs": [
    {
     "data": {
      "text/plain": [
       "[8, 7, 'keshav', 5]"
      ]
     },
     "execution_count": 16,
     "metadata": {},
     "output_type": "execute_result"
    }
   ],
   "source": [
    "lst[1][::-1]"
   ]
  },
  {
   "cell_type": "code",
   "execution_count": 17,
   "id": "4a8abf32",
   "metadata": {},
   "outputs": [],
   "source": [
    "### connections"
   ]
  },
  {
   "cell_type": "code",
   "execution_count": 18,
   "id": "a167b109",
   "metadata": {},
   "outputs": [],
   "source": [
    "#### connections"
   ]
  },
  {
   "cell_type": "code",
   "execution_count": null,
   "id": "3afb1c2b",
   "metadata": {},
   "outputs": [],
   "source": []
  }
 ],
 "metadata": {
  "kernelspec": {
   "display_name": "venv",
   "language": "python",
   "name": "python3"
  },
  "language_info": {
   "codemirror_mode": {
    "name": "ipython",
    "version": 3
   },
   "file_extension": ".py",
   "mimetype": "text/x-python",
   "name": "python",
   "nbconvert_exporter": "python",
   "pygments_lexer": "ipython3",
   "version": "3.12.11"
  }
 },
 "nbformat": 4,
 "nbformat_minor": 5
}
