{
 "cells": [
  {
   "cell_type": "code",
   "execution_count": 4,
   "id": "7cd089c8",
   "metadata": {},
   "outputs": [
    {
     "name": "stdout",
     "output_type": "stream",
     "text": [
      "My name is keshav sharma\n",
      "and i am a student of chandigarh university\n",
      "i am proficient in DSA, MERN and GenAi\n"
     ]
    }
   ],
   "source": [
    "with open('example.txt',\"r\") as file:\n",
    "    content=file.read()\n",
    "    print(content)"
   ]
  },
  {
   "cell_type": "code",
   "execution_count": 6,
   "id": "42894e19",
   "metadata": {},
   "outputs": [
    {
     "name": "stdout",
     "output_type": "stream",
     "text": [
      "My name is keshav sharma\n",
      "and i am a student of chandigarh university\n",
      "i am proficient in DSA, MERN and GenAi\n"
     ]
    }
   ],
   "source": [
    "with open(\"example.txt\",\"r\") as file:\n",
    "    for line in file:\n",
    "        print(line.strip())"
   ]
  },
  {
   "cell_type": "code",
   "execution_count": 7,
   "id": "0e79f3e0",
   "metadata": {},
   "outputs": [],
   "source": [
    "with open(\"example.txt\",mode=\"a\") as file:\n",
    "    file.write(\"This will add because we are in append mode\")"
   ]
  },
  {
   "cell_type": "code",
   "execution_count": 8,
   "id": "2ec530c5",
   "metadata": {},
   "outputs": [],
   "source": [
    "with open(\"example.txt\",mode=\"w\") as file:\n",
    "    file.write(\"Now Everything will get replaced here because we are using write mode\")"
   ]
  },
  {
   "cell_type": "code",
   "execution_count": 9,
   "id": "2cbf83a5",
   "metadata": {},
   "outputs": [],
   "source": [
    "lines=[\"\\nFirst Line\\n\",\"Second Line\\n\",\"Third Line\"]\n",
    "with open(\"example.txt\",\"a\") as file:\n",
    "    file.writelines(lines)"
   ]
  },
  {
   "cell_type": "code",
   "execution_count": 10,
   "id": "ccfb6cc5",
   "metadata": {},
   "outputs": [
    {
     "name": "stdout",
     "output_type": "stream",
     "text": [
      "Hello World\n",
      "This is a new line\n"
     ]
    }
   ],
   "source": [
    "with open(\"example.txt\",mode=\"w+\") as file:\n",
    "    file.write(\"Hello World\\n\")\n",
    "    file.write(\"This is a new line\")\n",
    "\n",
    "    file.seek(0)\n",
    "    \n",
    "    content=file.read()\n",
    "    print(content)"
   ]
  },
  {
   "cell_type": "code",
   "execution_count": null,
   "id": "70ba97aa",
   "metadata": {},
   "outputs": [],
   "source": []
  }
 ],
 "metadata": {
  "kernelspec": {
   "display_name": "Python 3",
   "language": "python",
   "name": "python3"
  },
  "language_info": {
   "codemirror_mode": {
    "name": "ipython",
    "version": 3
   },
   "file_extension": ".py",
   "mimetype": "text/x-python",
   "name": "python",
   "nbconvert_exporter": "python",
   "pygments_lexer": "ipython3",
   "version": "3.13.3"
  }
 },
 "nbformat": 4,
 "nbformat_minor": 5
}
