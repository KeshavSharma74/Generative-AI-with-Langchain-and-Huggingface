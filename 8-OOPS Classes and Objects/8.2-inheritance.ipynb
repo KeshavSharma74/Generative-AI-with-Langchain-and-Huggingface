{
 "cells": [
  {
   "cell_type": "code",
   "execution_count": 1,
   "id": "528a235f",
   "metadata": {},
   "outputs": [
    {
     "name": "stdout",
     "output_type": "stream",
     "text": [
      "The person is driving the Petrol car.\n"
     ]
    }
   ],
   "source": [
    "class Car:\n",
    "    def __init__(self,window,door,engine):\n",
    "        self.window=window\n",
    "        self.door=door\n",
    "        self.engine=engine\n",
    "\n",
    "    def drive(self):\n",
    "        print(f\"The person is driving the {self.engine} car.\")\n",
    "\n",
    "car1=Car(4,5,\"Petrol\")\n",
    "car1.drive()"
   ]
  },
  {
   "cell_type": "code",
   "execution_count": 6,
   "id": "d3940af5",
   "metadata": {},
   "outputs": [],
   "source": [
    "class Tesla(Car):\n",
    "    def __init__(self,window,door,engine,isSelfDriving):\n",
    "        super().__init__(window,door,engine)\n",
    "        self.isSelfDriving=isSelfDriving\n",
    "    \n",
    "    def selfDriving(self):\n",
    "        print(f\"The Person is driving the {self.engine} car.\")\n",
    "\n",
    "\n"
   ]
  },
  {
   "cell_type": "code",
   "execution_count": 7,
   "id": "69dd475d",
   "metadata": {},
   "outputs": [
    {
     "name": "stdout",
     "output_type": "stream",
     "text": [
      "The Person is driving the Electric car.\n"
     ]
    }
   ],
   "source": [
    "tesla1=Tesla(4,5,\"Electric\",True)\n",
    "tesla1.selfDriving()"
   ]
  },
  {
   "cell_type": "code",
   "execution_count": 8,
   "id": "1d60e794",
   "metadata": {},
   "outputs": [
    {
     "name": "stdout",
     "output_type": "stream",
     "text": [
      "The person is driving the Electric car.\n"
     ]
    }
   ],
   "source": [
    "tesla1.drive()"
   ]
  },
  {
   "cell_type": "code",
   "execution_count": 13,
   "id": "305d71f7",
   "metadata": {},
   "outputs": [],
   "source": [
    "class Animal:\n",
    "    def __init__(self,name):\n",
    "        self.name=name\n",
    "    \n",
    "    def speak():\n",
    "        print(\"This is the parent class speak method\")\n",
    "\n",
    "class Pet:\n",
    "    def __init__(self,owner):\n",
    "        self.owner=owner\n",
    "\n",
    "class Dog(Animal,Pet):\n",
    "    def __init__(self,name,owner):\n",
    "        Animal.__init__(self,name)\n",
    "        Pet.__init__(self,owner)\n",
    "\n",
    "    def speak(self):\n",
    "        print(\"This is the child class speak method\")"
   ]
  },
  {
   "cell_type": "code",
   "execution_count": 14,
   "id": "c76d4d0e",
   "metadata": {},
   "outputs": [
    {
     "name": "stdout",
     "output_type": "stream",
     "text": [
      "Name : Tommy\n",
      "Owner : Keshav Sharma\n"
     ]
    }
   ],
   "source": [
    "dog=Dog(\"Tommy\",\"Keshav Sharma\")\n",
    "print(f\"Name : {dog.name}\\nOwner : {dog.owner}\")"
   ]
  },
  {
   "cell_type": "code",
   "execution_count": null,
   "id": "d31188d0",
   "metadata": {},
   "outputs": [],
   "source": []
  }
 ],
 "metadata": {
  "kernelspec": {
   "display_name": "Python 3",
   "language": "python",
   "name": "python3"
  },
  "language_info": {
   "codemirror_mode": {
    "name": "ipython",
    "version": 3
   },
   "file_extension": ".py",
   "mimetype": "text/x-python",
   "name": "python",
   "nbconvert_exporter": "python",
   "pygments_lexer": "ipython3",
   "version": "3.13.3"
  }
 },
 "nbformat": 4,
 "nbformat_minor": 5
}
