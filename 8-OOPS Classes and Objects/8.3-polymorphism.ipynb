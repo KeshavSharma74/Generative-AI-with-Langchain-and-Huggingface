{
 "cells": [
  {
   "cell_type": "code",
   "execution_count": 2,
   "id": "2bb64745",
   "metadata": {},
   "outputs": [
    {
     "name": "stdout",
     "output_type": "stream",
     "text": [
      "Woof\n",
      "Meow\n"
     ]
    }
   ],
   "source": [
    "class Animal:\n",
    "    def speak(self):\n",
    "        print(\"This is the sound of animal\")\n",
    "\n",
    "class Cat(Animal):\n",
    "    def speak(self):\n",
    "        print(\"Meow\")\n",
    "\n",
    "class Dog(Animal):\n",
    "    def speak(self):\n",
    "        print(\"Woof\")\n",
    "\n",
    "dog=Dog()\n",
    "dog.speak()\n",
    "cat=Cat()\n",
    "cat.speak()\n"
   ]
  },
  {
   "cell_type": "code",
   "execution_count": 3,
   "id": "ebb9b2ca",
   "metadata": {},
   "outputs": [
    {
     "name": "stdout",
     "output_type": "stream",
     "text": [
      "The area is 24\n",
      "The area is 28.274333882308138\n"
     ]
    }
   ],
   "source": [
    "from math import pi\n",
    "class shape:\n",
    "    def area(self):\n",
    "        print(\"This is the shape of figure\")\n",
    "\n",
    "class Rectangle:\n",
    "    def __init__(self,height,width):\n",
    "        self.height=height\n",
    "        self.width=width\n",
    "\n",
    "    def area(self):\n",
    "        return self.height*self.width\n",
    "    \n",
    "class Circle:\n",
    "    def __init__(self,radius):\n",
    "        self.radius=radius\n",
    "\n",
    "    def area(self):\n",
    "        return pi*self.radius*self.radius\n",
    "    \n",
    "def printArea(shape):\n",
    "    print(f\"The area is {shape.area()}\")\n",
    "\n",
    "rectangle=Rectangle(4,6)\n",
    "circle=Circle(3)\n",
    "printArea(rectangle)\n",
    "printArea(circle)"
   ]
  },
  {
   "cell_type": "code",
   "execution_count": null,
   "id": "0676cb1d",
   "metadata": {},
   "outputs": [],
   "source": []
  }
 ],
 "metadata": {
  "kernelspec": {
   "display_name": "Python 3",
   "language": "python",
   "name": "python3"
  },
  "language_info": {
   "codemirror_mode": {
    "name": "ipython",
    "version": 3
   },
   "file_extension": ".py",
   "mimetype": "text/x-python",
   "name": "python",
   "nbconvert_exporter": "python",
   "pygments_lexer": "ipython3",
   "version": "3.13.3"
  }
 },
 "nbformat": 4,
 "nbformat_minor": 5
}
